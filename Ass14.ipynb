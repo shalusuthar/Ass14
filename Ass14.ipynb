{
 "cells": [
  {
   "cell_type": "markdown",
   "id": "18ea38ef-3739-4d65-8a12-905c7338c4fb",
   "metadata": {},
   "source": [
    "Q1. What is an API? Give an example, where an API is used in real life.\n",
    "\n",
    "Ans. What is an API with example?\n",
    "APIs are mechanisms that enable two software components to communicate with each other using a set of definitions and protocols. For example, the weather bureau's software system contains daily weather data. The weather app on your phone “talks” to this system via APIs and shows you daily weather updates on your phone.\n",
    "\n"
   ]
  },
  {
   "cell_type": "code",
   "execution_count": null,
   "id": "1b73317f-a332-4e05-9176-4254fe6d36e4",
   "metadata": {},
   "outputs": [],
   "source": []
  },
  {
   "cell_type": "markdown",
   "id": "7098d363-e7c3-4f2c-ace3-c7f3f5168429",
   "metadata": {},
   "source": [
    "Q2. Give advantages and disadvantages of using API.\n",
    "\n",
    "Ans. Advantages:\n",
    "  The major benefit of using an API is accessing and consuming data and services from thousands of independent sources. This means organizations of all sizes can access these functionalities without developing their own specialized applications.\n",
    "  \n",
    "  Disadvantages:\n",
    "  \n",
    "  However, they also come with some drawbacks, such as security concerns, complexity, compatibility issues, dependency on third-party developers, and governance and management issues."
   ]
  },
  {
   "cell_type": "code",
   "execution_count": null,
   "id": "a1873ece-1305-4e5a-8d2d-2940d705ccc3",
   "metadata": {},
   "outputs": [],
   "source": []
  },
  {
   "cell_type": "markdown",
   "id": "bc76cc20-9daa-4443-9917-344b174b98f2",
   "metadata": {},
   "source": [
    "Q3. What is a Web API? Differentiate between API and Web API.\n",
    "\n",
    "Ans. A web API is an application programming interface (API) for either a web server or a web browser. As a web development concept, it can be related to a web application's client side (including any web frameworks being used). A server-side web API consists of one or more publicly exposed endpoints to a defined request–response message system, typically expressed in JSON or XML by means of an HTTP-based web server. A server API (SAPI) is not considered a server-side web API, unless it is publicly accessible by a remote web application.\n",
    "\n",
    "\n",
    "APIs (Application Programming Interfaces) and web services occupy similar places as web communication functionalities, but are not the same thing. The terms API and web services are sometimes used interchangeably, but they are different technologies that solve different problems. APIs allow applications to communicate, while web services allow machines to communicate.\n",
    "\n"
   ]
  },
  {
   "cell_type": "code",
   "execution_count": null,
   "id": "f36ff9d7-663e-419d-8dc3-06a910e06c94",
   "metadata": {},
   "outputs": [],
   "source": []
  },
  {
   "cell_type": "markdown",
   "id": "b238d8e6-6baa-4237-8a3b-c33278897870",
   "metadata": {},
   "source": [
    "Q4. Explain REST and SOAP Architecture. Mention shortcomings of SOAP.\n",
    "\n",
    "Ans. REST, or REpresentational State Transfer, is an architectural style for providing standards between computer systems on the web, making it easier for systems to communicate with each other.\n",
    "\n",
    "Simple Object Access Protocol (SOAP) is a lightweight XML-based protocol that is used for the exchange of information in decentralized, distributed application environments. You can transmit SOAP messages in any way that the applications require, as long as both the client and the server use the same method.\n",
    "\n",
    " SOAP uses XML format that must be parsed to be read. It defines many standards that must be followed while developing the SOAP applications. So it is slow and consumes more bandwidth and resource."
   ]
  },
  {
   "cell_type": "code",
   "execution_count": null,
   "id": "6e46d9d3-889a-4770-86aa-da366acd124c",
   "metadata": {},
   "outputs": [],
   "source": []
  },
  {
   "cell_type": "markdown",
   "id": "e46c0792-f9cc-4237-9074-7a9cee275e63",
   "metadata": {},
   "source": [
    "Q5. Differentiate between REST and SOAP.\n",
    "\n",
    "Ans.  SOAP and REST are two different approaches to API design. The SOAP approach is highly structured and uses XML data format. REST is more flexible and allows applications to exchange data in multiple formats"
   ]
  }
 ],
 "metadata": {
  "kernelspec": {
   "display_name": "Python 3 (ipykernel)",
   "language": "python",
   "name": "python3"
  },
  "language_info": {
   "codemirror_mode": {
    "name": "ipython",
    "version": 3
   },
   "file_extension": ".py",
   "mimetype": "text/x-python",
   "name": "python",
   "nbconvert_exporter": "python",
   "pygments_lexer": "ipython3",
   "version": "3.10.8"
  }
 },
 "nbformat": 4,
 "nbformat_minor": 5
}
